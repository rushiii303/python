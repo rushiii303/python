{
  "metadata": {
    "kernelspec": {
      "name": "python",
      "display_name": "Python (Pyodide)",
      "language": "python"
    },
    "language_info": {
      "codemirror_mode": {
        "name": "python",
        "version": 3
      },
      "file_extension": ".py",
      "mimetype": "text/x-python",
      "name": "python",
      "nbconvert_exporter": "python",
      "pygments_lexer": "ipython3",
      "version": "3.8"
    }
  },
  "nbformat_minor": 5,
  "nbformat": 4,
  "cells": [
    {
      "id": "afdd7428-5814-4c35-95ea-cb229ede3886",
      "cell_type": "code",
      "source": "class StackDepth:\n    def maximumDepth(self, stringInput: str) -> int:\n        current_depth = 0\n        max_depth = 0\n        \n        # Iterate through each character of the string\n        for char in stringInput:\n            if char == '(':\n                current_depth += 1  # Increase depth for '('\n                max_depth = max(max_depth, current_depth)  # Track maximum depth\n            elif char == ')':\n                current_depth -= 1  # Decrease depth for ')'\n        \n        return max_depth\n\n# Create an instance of StackDepth\nstack_depth = StackDepth()\n\n# Test cases\nprint(stack_depth.maximumDepth(\"(1+(2*3)+((8)/4))+1\"))  # Expected output: 3\nprint(stack_depth.maximumDepth(\"(1)+((2))+(((3)))\"))  # Expected output: 3\nprint(stack_depth.maximumDepth(\"()(())((()()))\"))  # Expected output: 3\n",
      "metadata": {
        "trusted": true
      },
      "outputs": [
        {
          "name": "stdout",
          "output_type": "stream",
          "text": "3\n3\n3\n"
        }
      ],
      "execution_count": 4
    }
  ]
}
